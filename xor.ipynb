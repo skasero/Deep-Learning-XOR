{
  "nbformat": 4,
  "nbformat_minor": 0,
  "metadata": {
    "colab": {
      "name": "project2.ipynb",
      "provenance": [],
      "collapsed_sections": []
    },
    "kernelspec": {
      "name": "python3",
      "display_name": "Python 3"
    },
    "accelerator": "GPU"
  },
  "cells": [
    {
      "cell_type": "code",
      "metadata": {
        "id": "whrmt2-PErDt",
        "colab_type": "code",
        "outputId": "1ba8dc9b-c276-49da-fe37-f3a4334e6d9e",
        "colab": {
          "base_uri": "https://localhost:8080/",
          "height": 79
        }
      },
      "source": [
        "import tensorflow.keras\n",
        "import tensorflow\n",
        "\n",
        "from tensorflow.keras.models import Sequential \n",
        "from tensorflow.keras.layers import Activation, Dropout, Flatten, Dense \n",
        "from tensorflow.keras import backend as K \n",
        "from tensorflow.keras.callbacks import ReduceLROnPlateau, ModelCheckpoint\n",
        "\n",
        "import numpy as np\n",
        "\n",
        "import matplotlib.pyplot as plt\n",
        "%matplotlib inline"
      ],
      "execution_count": 0,
      "outputs": [
        {
          "output_type": "display_data",
          "data": {
            "text/html": [
              "<p style=\"color: red;\">\n",
              "The default version of TensorFlow in Colab will soon switch to TensorFlow 2.x.<br>\n",
              "We recommend you <a href=\"https://www.tensorflow.org/guide/migrate\" target=\"_blank\">upgrade</a> now \n",
              "or ensure your notebook will continue to use TensorFlow 1.x via the <code>%tensorflow_version 1.x</code> magic:\n",
              "<a href=\"https://colab.research.google.com/notebooks/tensorflow_version.ipynb\" target=\"_blank\">more info</a>.</p>\n"
            ],
            "text/plain": [
              "<IPython.core.display.HTML object>"
            ]
          },
          "metadata": {
            "tags": []
          }
        }
      ]
    },
    {
      "cell_type": "code",
      "metadata": {
        "id": "K6hujetOK8k6",
        "colab_type": "code",
        "colab": {}
      },
      "source": [
        "# Function to generate a random number, given input limits\n",
        "def generate_random_number(lower = -1, upper = 1):\n",
        "    # Random float between [lower,upper)\n",
        "    ran = np.random.uniform(lower,upper)\n",
        "    return np.around(ran,decimals=5)"
      ],
      "execution_count": 0,
      "outputs": []
    },
    {
      "cell_type": "code",
      "metadata": {
        "id": "LcedRCl_B-n3",
        "colab_type": "code",
        "outputId": "15492c75-808e-4dfa-b09c-707afa51d293",
        "colab": {
          "base_uri": "https://localhost:8080/",
          "height": 265
        }
      },
      "source": [
        "# set up number of training samples \n",
        "N = 250 # how many samples \n",
        "\n",
        "# set up upper and lower bound on your input probabilities \n",
        "Uh = 20 # upper limit \n",
        "Ul = -1 # lower limit \n",
        "\n",
        "# Number of Epochs\n",
        "epochs = 1000\n",
        "\n",
        "# set up the O-class (first and third quadrant)\n",
        "O = np.array([\n",
        "              [generate_random_number(-Ul,Uh),generate_random_number(-Ul,Uh)] if i % 2 == 0\n",
        "              else [generate_random_number(Ul,-Uh),generate_random_number(Ul,-Uh)] for i in range(N//2)]) # the o-class contains N uniformly randomly \n",
        "        # distributed samples whose x and y are both (-Ul, Uh) or (Ul, -Uh) first and third quadrants\n",
        "\n",
        "# set up the X-class (second and fourth quadrant) \n",
        "X = np.array([\n",
        "              [generate_random_number(Ul,-Uh),generate_random_number(-Ul,Uh)] if i % 2 == 0\n",
        "              else [generate_random_number(-Ul,Uh),generate_random_number(Ul,-Uh)] for i in range(N//2)]) # the x-class contains N uniformly randomly \n",
        "        # distributed samples whose x and y are in the second and fourth quadrants\n",
        "\n",
        "# plot the X-class and O-class\n",
        "plt.scatter(X[:,0],X[:,1],marker='+',c='blue',label='X-class')\n",
        "plt.scatter(O[:,0],O[:,1],marker='o',c='red',edgecolors='none',label='O-class')\n",
        "plt.legend() \n",
        "plt.grid(True) \n",
        "# plt.savefig(\"test.png\")"
      ],
      "execution_count": 0,
      "outputs": [
        {
          "output_type": "display_data",
          "data": {
            "image/png": "[encoded data removed]",
            "text/plain": [
              "<Figure size 432x288 with 1 Axes>"
            ]
          },
          "metadata": {
            "tags": []
          }
        }
      ]
    },
    {
      "cell_type": "code",
      "metadata": {
        "id": "_s5dN2M-Cwx-",
        "colab_type": "code",
        "colab": {}
      },
      "source": [
        "# set up the training samples from the X-class and the O-class \n",
        "x_train = np.append(X,O,axis=0) # compile the x- and o- classes into the x_train array\n",
        "\n",
        "# set up the labels [1 0] for each x-class and [0 1] for each o-class \n",
        "# y_x = np.array([[1, 0] for i in range(N//2)])\n",
        "# y_o = np.array([[0, 1] for i in range(N//2)])\n",
        "y_x = np.array([[1] for i in range(N//2)])\n",
        "y_o = np.array([[0] for i in range(N//2)])\n",
        "\n",
        "# set up the trraining labels \n",
        "y_train = np.append(y_x,y_o,axis=0)#compile the labels into the y_train array for class labels "
      ],
      "execution_count": 0,
      "outputs": []
    },
    {
      "cell_type": "code",
      "metadata": {
        "id": "nBh5Lr0JC3GN",
        "colab_type": "code",
        "outputId": "0d40b291-531b-46b3-8f96-1cd0adf38cc8",
        "colab": {
          "base_uri": "https://localhost:8080/",
          "height": 356
        }
      },
      "source": [
        "# Clears any history of any model\n",
        "K.clear_session()\n",
        "\n",
        "# set up your model as sequential \n",
        "model = Sequential()\n",
        "\n",
        "# add a dense layer with 8 nodes and relu activations. Note: the input is two-dimensional\n",
        "model.add(Dense(8,input_dim=2)) \n",
        "model.add(Activation('relu')) \n",
        "\n",
        "# add another dense layer as the output layer with sigmoid activations. Note: output will be two-dimensional \n",
        "model.add(Dense(1)) \n",
        "model.add(Activation('sigmoid')) \n",
        "\n",
        "# print the shape, summary, configuration, and initial weights of your network \n",
        "model.summary()\n",
        "\n",
        "from tensorflow.keras.utils import plot_model\n",
        "# plot_model(model, to_file='model_plot.png', show_shapes=True, show_layer_names=True)"
      ],
      "execution_count": 0,
      "outputs": [
        {
          "output_type": "stream",
          "text": [
            "WARNING:tensorflow:From /usr/local/lib/python3.6/dist-packages/tensorflow_core/python/ops/resource_variable_ops.py:1630: calling BaseResourceVariable.__init__ (from tensorflow.python.ops.resource_variable_ops) with constraint is deprecated and will be removed in a future version.\n",
            "Instructions for updating:\n",
            "If using Keras pass *_constraint arguments to layers.\n",
            "Model: \"sequential\"\n",
            "_________________________________________________________________\n",
            "Layer (type)                 Output Shape              Param #   \n",
            "=================================================================\n",
            "dense (Dense)                (None, 8)                 24        \n",
            "_________________________________________________________________\n",
            "activation (Activation)      (None, 8)                 0         \n",
            "_________________________________________________________________\n",
            "dense_1 (Dense)              (None, 1)                 9         \n",
            "_________________________________________________________________\n",
            "activation_1 (Activation)    (None, 1)                 0         \n",
            "=================================================================\n",
            "Total params: 33\n",
            "Trainable params: 33\n",
            "Non-trainable params: 0\n",
            "_________________________________________________________________\n"
          ],
          "name": "stdout"
        }
      ]
    },
    {
      "cell_type": "code",
      "metadata": {
        "id": "Ds1R-qzo-Ctn",
        "colab_type": "code",
        "colab": {}
      },
      "source": [
        "# # Clears any history of any model\n",
        "# K.clear_session()\n",
        "\n",
        "# # set up your model as sequential \n",
        "# model = Sequential()\n",
        "\n",
        "# # add a dense layer with 8 nodes and relu activations. Note: the input is two-dimensional\n",
        "# model.add(Dense(32,input_dim=2)) \n",
        "# model.add(Activation('relu')) \n",
        "# model.add(Dense(32)) \n",
        "# model.add(Activation('relu')) \n",
        "# model.add(Dense(32)) \n",
        "# model.add(Activation('relu')) \n",
        "\n",
        "# # add another dense layer as the output layer with sigmoid activations. Note: output will be two-dimensional \n",
        "# model.add(Dense(1)) \n",
        "# model.add(Activation('sigmoid')) \n",
        "\n",
        "# # print the shape, summary, configuration, and initial weights of your network \n",
        "# model.summary()\n",
        "\n",
        "# from tensorflow.keras.utils import plot_model\n",
        "# # plot_model(model, to_file='model_plot.png', show_shapes=True, show_layer_names=True)"
      ],
      "execution_count": 0,
      "outputs": []
    },
    {
      "cell_type": "code",
      "metadata": {
        "id": "StxFjqdwC9mO",
        "colab_type": "code",
        "colab": {}
      },
      "source": [
        "# setup the loss as binary cross entropy, optimizer as adam, and metrics as accuracy for your model and compile \n",
        "model.compile(loss='binary_crossentropy',\n",
        "                optimizer='adam',\n",
        "                metrics=['accuracy'])\n",
        " \n",
        "# train your model using x_train, y_train, and for a certain number of epochs, with a batch_size of n, and set verbose to 1 \n",
        "model.fit(x=x_train,\n",
        "          y=y_train,\n",
        "          epochs=epochs,\n",
        "          batch_size=N,\n",
        "          verbose=1) "
      ],
      "execution_count": 0,
      "outputs": []
    },
    {
      "cell_type": "code",
      "metadata": {
        "id": "KlA_-EmMDHjf",
        "colab_type": "code",
        "colab": {}
      },
      "source": [
        "# set up 300 samples as test (150 for the x-class and 150 for the o-class) \n",
        "# create the labels for these items as well [1 0] for each x-class and [0 1] for each o-class \n",
        "N_test = 300\n",
        "\n",
        "O_final = np.array([\n",
        "              [generate_random_number(-Ul,Uh),generate_random_number(-Ul,Uh)] if i % 2 == 0\n",
        "              else [generate_random_number(Ul,-Uh),generate_random_number(Ul,-Uh)] for i in range(N_test//2)]) \n",
        "\n",
        "X_final = np.array([\n",
        "              [generate_random_number(Ul,-Uh),generate_random_number(-Ul,Uh)] if i % 2 == 0\n",
        "              else [generate_random_number(-Ul,Uh),generate_random_number(Ul,-Uh)] for i in range(N_test//2)])\n",
        "\n",
        "x_test = np.append(X_final,O_final,axis=0)\n",
        "\n",
        "# set up the labels [1 0] for each x-class and [0 1] for each o-class \n",
        "# y_xtest = np.array([[1,0] for i in range(N_test//2)])\n",
        "# y_otest = np.array([[0,1] for i in range(N_test//2)])\n",
        "y_xfinal = np.array([[1] for i in range(N_test//2)])\n",
        "y_ofinal = np.array([[0] for i in range(N_test//2)])\n",
        "\n",
        "y_test = np.append(y_xfinal,y_ofinal,axis=0)"
      ],
      "execution_count": 0,
      "outputs": []
    },
    {
      "cell_type": "code",
      "metadata": {
        "id": "zY7Sjaf5-f5l",
        "colab_type": "code",
        "outputId": "29aa557d-7f32-4235-838f-9d5b2628acdc",
        "colab": {
          "base_uri": "https://localhost:8080/",
          "height": 50
        }
      },
      "source": [
        "# evaluate your model \n",
        "score = model.evaluate(x=x_test,\n",
        "          y=y_test,\n",
        "          verbose=2) \n",
        "print(score) "
      ],
      "execution_count": 0,
      "outputs": [
        {
          "output_type": "stream",
          "text": [
            "300/300 - 0s - loss: 0.0532 - acc: 1.0000\n",
            "[0.05322303265333175, 1.0]\n"
          ],
          "name": "stdout"
        }
      ]
    },
    {
      "cell_type": "code",
      "metadata": {
        "id": "tWjbgsx1daIc",
        "colab_type": "code",
        "outputId": "0745c545-30c7-422a-abc1-4a64939a4dce",
        "colab": {
          "base_uri": "https://localhost:8080/",
          "height": 265
        }
      },
      "source": [
        "from mlxtend.plotting import plot_decision_regions\n",
        "\n",
        "# Finds the indicies of the wrongly predicted test data\n",
        "incorrects = np.nonzero(model.predict_classes(x_test) != y_test)\n",
        "incorrect_data = np.array([x_test[i] for i in incorrects[0]])\n",
        "\n",
        "# Plot coloring\n",
        "scatter_highlight_kwargs = {'s': 250, 'label': 'Incorrect Predictions', 'alpha': 0.8}\n",
        "scatter_kwargs = {'s': 80, 'edgecolor': None, 'alpha': 0.7}\n",
        "contourf_kwargs = {'alpha': 0.2}\n",
        "\n",
        "# Plotting the data\n",
        "if(incorrect_data.size == 0):\n",
        "    plot_decision_regions(x_test, y_test[:,0], clf=model, legend=2,\n",
        "                        markers = ['o','+'],\n",
        "                        scatter_kwargs=scatter_kwargs,\n",
        "                        contourf_kwargs=contourf_kwargs)\n",
        "else:\n",
        "    plot_decision_regions(x_test, y_test[:,0], clf=model, legend=2,\n",
        "                        X_highlight=incorrect_data,\n",
        "                        scatter_kwargs=scatter_kwargs,\n",
        "                        contourf_kwargs=contourf_kwargs,\n",
        "                        scatter_highlight_kwargs=scatter_highlight_kwargs)\n",
        "\n",
        "plt.legend(bbox_to_anchor=(1, 1), loc='upper left', ncol=1)\n",
        "plt.grid(True) \n",
        "# plt.savefig(\"result.png\")"
      ],
      "execution_count": 0,
      "outputs": [
        {
          "output_type": "display_data",
          "data": {
            "image/png": "[encoded data removed]",
            "text/plain": [
              "<Figure size 432x288 with 1 Axes>"
            ]
          },
          "metadata": {
            "tags": []
          }
        }
      ]
    }
  ]
}